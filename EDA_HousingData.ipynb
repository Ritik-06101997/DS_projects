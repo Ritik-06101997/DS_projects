{
  "nbformat": 4,
  "nbformat_minor": 0,
  "metadata": {
    "colab": {
      "private_outputs": true,
      "provenance": [],
      "authorship_tag": "ABX9TyPVfyPU07vbDgI5bLlXNiD7",
      "include_colab_link": true
    },
    "kernelspec": {
      "name": "python3",
      "display_name": "Python 3"
    },
    "language_info": {
      "name": "python"
    }
  },
  "cells": [
    {
      "cell_type": "markdown",
      "metadata": {
        "id": "view-in-github",
        "colab_type": "text"
      },
      "source": [
        "<a href=\"https://colab.research.google.com/github/Ritik-06101997/DS_projects/blob/main/EDA_HousingData.ipynb\" target=\"_parent\"><img src=\"https://colab.research.google.com/assets/colab-badge.svg\" alt=\"Open In Colab\"/></a>"
      ]
    },
    {
      "cell_type": "code",
      "execution_count": null,
      "metadata": {
        "id": "IiiiahDQS2qQ"
      },
      "outputs": [],
      "source": [
        "import pandas as pd\n",
        "import matplotlib.pyplot as plt\n",
        "import seaborn as sns\n",
        "import numpy as np\n",
        "from scipy.stats import norm\n",
        "from sklearn.preprocessing import StandardScaler\n",
        "from scipy import stats\n",
        "import warnings\n",
        "warnings.filterwarnings('ignore')\n",
        "%matplotlib inline"
      ]
    },
    {
      "cell_type": "code",
      "source": [
        "df_train = pd.read_csv(\"HouseData.csv\")"
      ],
      "metadata": {
        "id": "RRp2_qQqV9XD"
      },
      "execution_count": null,
      "outputs": []
    },
    {
      "cell_type": "code",
      "source": [
        "df_train.columns"
      ],
      "metadata": {
        "id": "tUZMto8YWSM2"
      },
      "execution_count": null,
      "outputs": []
    },
    {
      "cell_type": "code",
      "source": [
        "print(f\"No of Rows:  {df_train.shape[0]}\")\n",
        "print(f\"No of Columns: {df_train.shape[1]}\")"
      ],
      "metadata": {
        "id": "RDrP-uJtW_2y"
      },
      "execution_count": null,
      "outputs": []
    },
    {
      "cell_type": "code",
      "source": [
        "df_train.dtypes"
      ],
      "metadata": {
        "id": "kDrMxk8LZHZl"
      },
      "execution_count": null,
      "outputs": []
    },
    {
      "cell_type": "markdown",
      "source": [
        "Analyse Sales Price"
      ],
      "metadata": {
        "id": "697Vxnqna1ew"
      }
    },
    {
      "cell_type": "code",
      "source": [
        "df_train['SalePrice'].describe()"
      ],
      "metadata": {
        "id": "t-lb-0hTZ_zu"
      },
      "execution_count": null,
      "outputs": []
    },
    {
      "cell_type": "code",
      "source": [
        "sns.distplot(df_train['SalePrice'])"
      ],
      "metadata": {
        "id": "5-eU5pLVcJtG"
      },
      "execution_count": null,
      "outputs": []
    },
    {
      "cell_type": "markdown",
      "source": [
        "**Relationships**"
      ],
      "metadata": {
        "id": "Sx_Rz4ebgbUw"
      }
    },
    {
      "cell_type": "code",
      "source": [
        "sns.scatterplot(data=df_train, x='GrLivArea', y='SalePrice')"
      ],
      "metadata": {
        "id": "iUeT-02FcUT1"
      },
      "execution_count": null,
      "outputs": []
    },
    {
      "cell_type": "code",
      "source": [
        "sns.scatterplot(data=df_train, x='TotalBsmtSF', y='SalePrice');"
      ],
      "metadata": {
        "id": "DCnzUjxMhkEl"
      },
      "execution_count": null,
      "outputs": []
    },
    {
      "cell_type": "markdown",
      "source": [
        "We can see total basement size is 0 still saleprice is increasing."
      ],
      "metadata": {
        "id": "rDa1DGmSlJPk"
      }
    },
    {
      "cell_type": "markdown",
      "source": [
        "Relationship between Categorical Variables"
      ],
      "metadata": {
        "id": "Ki-fNv6asqvz"
      }
    },
    {
      "cell_type": "code",
      "source": [
        "fig=sns.boxplot(data= df_train, x= 'OverallQual',y='SalePrice')\n",
        "fig.axis(ymin=0,ymax=800000)"
      ],
      "metadata": {
        "id": "sE9tN_pfs7Wr"
      },
      "execution_count": null,
      "outputs": []
    },
    {
      "cell_type": "code",
      "source": [
        "fig=sns.boxplot(data= df_train, x= 'YearBuilt',y='SalePrice')\n",
        "fig.axis(ymin=0,ymax=800000)"
      ],
      "metadata": {
        "id": "ho0no-SBzy8b"
      },
      "execution_count": null,
      "outputs": []
    },
    {
      "cell_type": "markdown",
      "source": [],
      "metadata": {
        "id": "wQLKQr4elGaa"
      }
    }
  ]
}